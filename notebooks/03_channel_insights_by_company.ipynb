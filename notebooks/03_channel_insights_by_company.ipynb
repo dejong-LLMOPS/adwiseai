{
 "cells": [
  {
   "cell_type": "code",
   "execution_count": 0,
   "metadata": {
    "application/vnd.databricks.v1+cell": {
     "cellMetadata": {
      "byteLimit": 2048000,
      "rowLimit": 10000
     },
     "inputWidgets": {},
     "nuid": "fb1a7631-6ceb-4dc1-84e4-214892c9d0c2",
     "showTitle": false,
     "tableResultSettingsMap": {},
     "title": ""
    }
   },
   "outputs": [],
   "source": [
    "# Databricks Widgets for Dynamic Control\n",
    "dbutils.widgets.text(\"target_company\", \"Aura Align\", \"Select Company\")\n",
    "dbutils.widgets.text(\"campaign_limit\", \"200\", \"Max Campaigns\")\n",
    "\n",
    "# Read Widget Values\n",
    "target_company = dbutils.widgets.get(\"target_company\")\n",
    "campaign_limit = int(dbutils.widgets.get(\"campaign_limit\"))\n",
    "\n",
    "print(f\"Target Company: {target_company}\")\n",
    "print(f\"Campaign Limit: {campaign_limit}\")\n"
   ]
  },
  {
   "cell_type": "code",
   "execution_count": 0,
   "metadata": {
    "application/vnd.databricks.v1+cell": {
     "cellMetadata": {
      "byteLimit": 2048000,
      "rowLimit": 10000
     },
     "inputWidgets": {},
     "nuid": "02ea08c2-6993-4dfa-a700-0af939d3b193",
     "showTitle": false,
     "tableResultSettingsMap": {},
     "title": ""
    }
   },
   "outputs": [],
   "source": [
    "from pyspark.sql.functions import col\n",
    "\n",
    "df = spark.table(\"adwiseai.ads_dataset_cleaned\")\n",
    "\n",
    "# Filter by company and limit campaign count\n",
    "df_company = df.filter(col(\"Company\") == target_company).limit(campaign_limit)\n",
    "\n",
    "display(df_company)\n"
   ]
  },
  {
   "cell_type": "code",
   "execution_count": 0,
   "metadata": {
    "application/vnd.databricks.v1+cell": {
     "cellMetadata": {
      "byteLimit": 2048000,
      "rowLimit": 10000
     },
     "inputWidgets": {},
     "nuid": "b2f667c2-d5a0-4011-b471-28d6f7aa724a",
     "showTitle": false,
     "tableResultSettingsMap": {},
     "title": ""
    }
   },
   "outputs": [],
   "source": [
    "from pyspark.sql import functions as F\n",
    "\n",
    "channel_summary = df_company.groupBy(\"Channel_Lower\").agg(\n",
    "    F.count(\"*\").alias(\"campaign_count\"),\n",
    "    F.avg(\"ROI\").alias(\"avg_ROI\"),\n",
    "    F.avg(\"CTR\").alias(\"avg_CTR\"),\n",
    "    F.avg(\"CPC\").alias(\"avg_CPC\"),\n",
    "    F.avg(\"Conversion_Rate\").alias(\"avg_Conversion_Rate\"),\n",
    "    F.avg(\"Engagement_Score\").alias(\"avg_Engagement_Score\")\n",
    ").orderBy(\"avg_ROI\", ascending=False)\n",
    "\n",
    "display(channel_summary)\n",
    "\n",
    "# Convert to JSON-style dict\n",
    "channel_data = channel_summary.toPandas().to_dict(orient=\"records\")\n"
   ]
  },
  {
   "cell_type": "code",
   "execution_count": 0,
   "metadata": {
    "application/vnd.databricks.v1+cell": {
     "cellMetadata": {
      "byteLimit": 2048000,
      "rowLimit": 10000
     },
     "inputWidgets": {},
     "nuid": "01a7f3f1-eb07-4e13-86ed-35c100e5539d",
     "showTitle": false,
     "tableResultSettingsMap": {},
     "title": ""
    }
   },
   "outputs": [],
   "source": [
    "import json\n",
    "\n",
    "prompt_path = \"/Workspace/Users/njdejong99@gmail.com/adwiseai/prompts/prompt1.json\"\n",
    "\n",
    "with open(prompt_path, \"r\") as f:\n",
    "    prompt_templates = json.load(f)\n",
    "\n",
    "template = prompt_templates[\"channel_comparison_with_strategy\"]\n",
    "\n",
    "prompt = template.format(\n",
    "    company=target_company,\n",
    "    channel_data=json.dumps(channel_data, indent=2)\n",
    ")\n"
   ]
  },
  {
   "cell_type": "code",
   "execution_count": 0,
   "metadata": {
    "application/vnd.databricks.v1+cell": {
     "cellMetadata": {
      "byteLimit": 2048000,
      "rowLimit": 10000
     },
     "inputWidgets": {},
     "nuid": "b6bcaf34-a2a6-4a85-a1af-d89fc369e7c1",
     "showTitle": false,
     "tableResultSettingsMap": {},
     "title": ""
    }
   },
   "outputs": [],
   "source": [
    "from openai import AzureOpenAI\n",
    "\n",
    "# Azure OpenAI configuration\n",
    "endpoint = \"https://forfunz.openai.azure.com/\"\n",
    "subscription_key = dbutils.secrets.get(scope=\"LLMops vault\", key=\"OpenAI-AzureKey1\")  # Databricks secret\n",
    "\n",
    "# Initialize the Azure OpenAI client\n",
    "client = AzureOpenAI(\n",
    "    api_version=\"2024-12-01-preview\",\n",
    "    azure_endpoint=endpoint,\n",
    "    api_key=subscription_key,\n",
    ")\n",
    "\n",
    "# Send a chat completion request to get insights\n",
    "response = client.chat.completions.create(\n",
    "    messages=[\n",
    "        {\"role\": \"system\", \"content\": \"You are an expert digital advertising analyst.\"},\n",
    "        {\"role\": \"user\", \"content\": prompt}\n",
    "    ],\n",
    "    max_tokens=4096,\n",
    "    temperature=1.0,\n",
    "    top_p=1.0,\n",
    "    model=\"gpt35-insights\"  # Use the deployed model\n",
    ")\n",
    "\n",
    "# Extract and display the insights from the response\n",
    "channel_insight = response.choices[0].message.content\n",
    "print(channel_insight)\n"
   ]
  },
  {
   "cell_type": "code",
   "execution_count": 0,
   "metadata": {
    "application/vnd.databricks.v1+cell": {
     "cellMetadata": {
      "byteLimit": 2048000,
      "rowLimit": 10000
     },
     "inputWidgets": {},
     "nuid": "d7b364f8-cc95-4d57-96ef-ceace7e45d39",
     "showTitle": false,
     "tableResultSettingsMap": {},
     "title": ""
    }
   },
   "outputs": [],
   "source": [
    "from datetime import datetime\n",
    "\n",
    "# Prepare data for logging\n",
    "insight_df = spark.createDataFrame(\n",
    "    [(target_company, datetime.now(), prompt, channel_insight)],\n",
    "    [\"Company\", \"Timestamp\", \"Prompt\", \"Insight\"]\n",
    ")\n",
    "\n",
    "# Save the insight to the Delta table\n",
    "insight_df.write.mode(\"append\").format(\"delta\").saveAsTable(\"adwiseai.insight_by_channel\")\n"
   ]
  },
  {
   "cell_type": "code",
   "execution_count": 0,
   "metadata": {
    "application/vnd.databricks.v1+cell": {
     "cellMetadata": {
      "byteLimit": 2048000,
      "rowLimit": 10000
     },
     "inputWidgets": {},
     "nuid": "9b1ee262-7bb4-46e2-9e4d-cebecfb99e61",
     "showTitle": false,
     "tableResultSettingsMap": {},
     "title": ""
    }
   },
   "outputs": [],
   "source": []
  }
 ],
 "metadata": {
  "application/vnd.databricks.v1+notebook": {
   "computePreferences": null,
   "dashboards": [],
   "environmentMetadata": {
    "base_environment": "",
    "environment_version": "2"
   },
   "language": "python",
   "notebookMetadata": {
    "pythonIndentUnit": 4
   },
   "notebookName": "03_channel_insights_by_company",
   "widgets": {
    "campaign_limit": {
     "currentValue": "50",
     "nuid": "9e1b155e-b6d5-4e68-a68d-58347dffbb95",
     "typedWidgetInfo": {
      "autoCreated": false,
      "defaultValue": "200",
      "label": "Max Campaigns",
      "name": "campaign_limit",
      "options": {
       "widgetDisplayType": "Text",
       "validationRegex": null
      },
      "parameterDataType": "String"
     },
     "widgetInfo": {
      "widgetType": "text",
      "defaultValue": "200",
      "label": "Max Campaigns",
      "name": "campaign_limit",
      "options": {
       "widgetType": "text",
       "autoCreated": null,
       "validationRegex": null
      }
     }
    },
    "target_company": {
     "currentValue": "Aura Align",
     "nuid": "b71c1321-a7af-45e2-bb5f-f22770d02980",
     "typedWidgetInfo": {
      "autoCreated": false,
      "defaultValue": "Aura Align",
      "label": "Select Company",
      "name": "target_company",
      "options": {
       "widgetDisplayType": "Text",
       "validationRegex": null
      },
      "parameterDataType": "String"
     },
     "widgetInfo": {
      "widgetType": "text",
      "defaultValue": "Aura Align",
      "label": "Select Company",
      "name": "target_company",
      "options": {
       "widgetType": "text",
       "autoCreated": null,
       "validationRegex": null
      }
     }
    }
   }
  },
  "language_info": {
   "name": "python"
  }
 },
 "nbformat": 4,
 "nbformat_minor": 0
}
