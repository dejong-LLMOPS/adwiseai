{
 "cells": [
  {
   "cell_type": "markdown",
   "metadata": {
    "application/vnd.databricks.v1+cell": {
     "cellMetadata": {
      "byteLimit": 2048000,
      "rowLimit": 10000
     },
     "inputWidgets": {},
     "nuid": "8ffabb42-3a84-469e-ba91-21bf95704dd6",
     "showTitle": false,
     "tableResultSettingsMap": {},
     "title": ""
    }
   },
   "source": [
    "# AdWiseAI – Data Cleaning & Feature Engineering (Sprint 2)\n",
    "\n",
    "This notebook performs data cleaning and feature engineering on the raw ad campaign dataset (`adwiseai.ads_dataset_raw`), and saves a cleaned, enriched version as `adwiseai.ads_dataset_cleaned`.\n"
   ]
  },
  {
   "cell_type": "code",
   "execution_count": 0,
   "metadata": {
    "application/vnd.databricks.v1+cell": {
     "cellMetadata": {
      "byteLimit": 2048000,
      "rowLimit": 10000
     },
     "inputWidgets": {},
     "nuid": "e3e14250-f424-4753-af06-9efaa7b58412",
     "showTitle": false,
     "tableResultSettingsMap": {},
     "title": ""
    }
   },
   "outputs": [],
   "source": [
    "from pyspark.sql import functions as F\n",
    "\n",
    "# Set up schema\n",
    "spark.sql(\"CREATE DATABASE IF NOT EXISTS adwiseai\")\n",
    "spark.catalog.setCurrentDatabase(\"adwiseai\")\n",
    "\n",
    "#load data\n",
    "df = spark.table(\"adwiseai.ads_dataset_raw\")\n",
    "\n",
    "#veiw data\n",
    "display(df)\n",
    "df.printSchema()"
   ]
  },
  {
   "cell_type": "code",
   "execution_count": 0,
   "metadata": {
    "application/vnd.databricks.v1+cell": {
     "cellMetadata": {
      "byteLimit": 2048000,
      "rowLimit": 10000
     },
     "inputWidgets": {},
     "nuid": "dbec1ca0-b335-4611-ba04-7f6040b57fba",
     "showTitle": false,
     "tableResultSettingsMap": {},
     "title": ""
    }
   },
   "outputs": [],
   "source": [
    "# Cleanign string to numeric fields\n",
    "df_clean = df.withColumn(\n",
    "    \"Acquisition_Cost_Clean\", F.regexp_replace(\"Acquisition_Cost\", \"[$,]\", \"\").cast(\"double\")\n",
    ").withColumn(\n",
    "    \"Duration_Days\", F.regexp_extract(\"Duration\", r\"(\\d+)\", 1).cast(\"int\")\n",
    ")\n",
    "\n",
    "# Check schema\n",
    "df_clean.printSchema()    "
   ]
  },
  {
   "cell_type": "code",
   "execution_count": 0,
   "metadata": {
    "application/vnd.databricks.v1+cell": {
     "cellMetadata": {
      "byteLimit": 2048000,
      "rowLimit": 10000
     },
     "inputWidgets": {},
     "nuid": "6f012877-2386-4c3d-9954-f628edd02da7",
     "showTitle": false,
     "tableResultSettingsMap": {},
     "title": ""
    }
   },
   "outputs": [],
   "source": [
    "# Feature Creation\n",
    "\n",
    "# click through rate i.e % of people who clicked after seeing the ad\n",
    "df_features = df_clean.withColumn(\"CTR\", F.col(\"Clicks\") / F.col(\"Impressions\"))\n",
    "\n",
    "# CPC (Cost Per Click) i.e How much did each click cost\n",
    "df_features = df_features.withColumn(\"CPC\", F.col(\"Acquisition_Cost_Clean\") / F.col(\"Clicks\"))\n",
    "\n",
    "# CPM (Cost Per Mille) i.e cost per 1000 impressions\n",
    "df_features = df_features.withColumn(\"CPM\", (F.col(\"Acquisition_Cost_Clean\") / F.col(\"Impressions\")) * 1000)\n",
    "\n",
    "# Campaign Week \n",
    "df_features = df_features.withColumn(\"Campaign_Week\", F.weekofyear(\"Date\"))\n",
    "\n",
    "# Campaign Month\n",
    "df_features = df_features.withColumn(\"Campaign_Month\", F.month(\"Date\"))\n",
    "\n",
    "# Standardize the ads channel (INstAgram → instagram)\n",
    "df_features = df_features.withColumn(\"Channel_Lower\", F.lower(F.col(\"Channel_Used\")))\n"
   ]
  },
  {
   "cell_type": "markdown",
   "metadata": {
    "application/vnd.databricks.v1+cell": {
     "cellMetadata": {
      "byteLimit": 2048000,
      "rowLimit": 10000
     },
     "inputWidgets": {},
     "nuid": "47b50142-cd87-4895-9f27-fb8bcdebb287",
     "showTitle": false,
     "tableResultSettingsMap": {},
     "title": ""
    }
   },
   "source": [
    "Incomplete or zero-value records can skew your averages, break calculations, and confuse models. Clean data = reliable metrics."
   ]
  },
  {
   "cell_type": "code",
   "execution_count": 0,
   "metadata": {
    "application/vnd.databricks.v1+cell": {
     "cellMetadata": {
      "byteLimit": 2048000,
      "rowLimit": 10000
     },
     "inputWidgets": {},
     "nuid": "7aa4d6d0-7548-4be4-93f8-bbd54c3ddb25",
     "showTitle": false,
     "tableResultSettingsMap": {},
     "title": ""
    }
   },
   "outputs": [],
   "source": [
    "#  Missing Values\n",
    "df_filtered = df_features.dropna(subset=[\"Clicks\", \"Impressions\", \"Acquisition_Cost_Clean\", \"ROI\", \"Location\", \"Language\", \"Customer_Segment\", \"Campaign_Goal\", \"Channel_Lower\", \"Duration_Days\", \"Campaign_Week\", \"Campaign_Month\"])\n",
    "\n",
    "# Outtlier removal\n",
    "df_filtered = df_filtered.filter((F.col(\"Impressions\") > 0) & (F.col(\"Clicks\") > 0))\n",
    "\n"
   ]
  },
  {
   "cell_type": "code",
   "execution_count": 0,
   "metadata": {
    "application/vnd.databricks.v1+cell": {
     "cellMetadata": {
      "byteLimit": 2048000,
      "rowLimit": 10000
     },
     "inputWidgets": {},
     "nuid": "2172c394-000a-4d30-bf4e-9f0938d5ae88",
     "showTitle": false,
     "tableResultSettingsMap": {},
     "title": ""
    }
   },
   "outputs": [],
   "source": [
    "# write to delta table\n",
    "df_filtered.write.format(\"delta\").mode(\"overwrite\").saveAsTable(\"adwiseai.ads_dataset_cleaned\")\n"
   ]
  },
  {
   "cell_type": "markdown",
   "metadata": {
    "application/vnd.databricks.v1+cell": {
     "cellMetadata": {
      "byteLimit": 2048000,
      "rowLimit": 10000
     },
     "inputWidgets": {},
     "nuid": "a3d308fb-9773-4178-b041-02045a7646c6",
     "showTitle": false,
     "tableResultSettingsMap": {},
     "title": ""
    }
   },
   "source": [
    "### EDA: Basic Distribution Checks + Outlier Detection"
   ]
  },
  {
   "cell_type": "code",
   "execution_count": 0,
   "metadata": {
    "application/vnd.databricks.v1+cell": {
     "cellMetadata": {
      "byteLimit": 2048000,
      "rowLimit": 10000
     },
     "inputWidgets": {},
     "nuid": "176da66f-c326-40ac-8e61-ff609092c3a0",
     "showTitle": false,
     "tableResultSettingsMap": {},
     "title": ""
    }
   },
   "outputs": [],
   "source": [
    "import matplotlib.pyplot as plt\n",
    "import seaborn as sns\n",
    "import pandas as pd\n",
    "\n",
    "# Convert filtered Spark DataFrame to Pandas for plotting\n",
    "df_pd = df_filtered.select(\n",
    "    \"CTR\", \"CPC\", \"CPM\", \"ROI\", \"Conversion_Rate\", \"Engagement_Score\"\n",
    ").toPandas()\n",
    "\n"
   ]
  },
  {
   "cell_type": "code",
   "execution_count": 0,
   "metadata": {
    "application/vnd.databricks.v1+cell": {
     "cellMetadata": {
      "byteLimit": 2048000,
      "rowLimit": 10000
     },
     "inputWidgets": {},
     "nuid": "1aca2725-a574-45b4-a56b-fc96a43b5542",
     "showTitle": false,
     "tableResultSettingsMap": {},
     "title": ""
    }
   },
   "outputs": [],
   "source": [
    "# Set consistent style\n",
    "sns.set(style=\"whitegrid\")\n",
    "\n",
    "# Plot multiple features\n",
    "features = [\"CTR\", \"CPC\", \"CPM\", \"ROI\", \"Conversion_Rate\", \"Engagement_Score\"]\n",
    "for feature in features:\n",
    "    plt.figure(figsize=(6, 4))\n",
    "    sns.histplot(df_pd[feature], bins=40, kde=True)\n",
    "    plt.title(f\"{feature} Distribution\")\n",
    "    plt.xlabel(feature)\n",
    "    plt.ylabel(\"Frequency\")\n",
    "    plt.tight_layout()\n",
    "    plt.show()\n"
   ]
  },
  {
   "cell_type": "markdown",
   "metadata": {
    "application/vnd.databricks.v1+cell": {
     "cellMetadata": {
      "byteLimit": 2048000,
      "rowLimit": 10000
     },
     "inputWidgets": {},
     "nuid": "72a8bef7-d61d-48fb-83d4-e9e830a391f6",
     "showTitle": false,
     "tableResultSettingsMap": {},
     "title": ""
    }
   },
   "source": [
    "#### Findings\n",
    "\n",
    "##### CTR\n",
    "Observation: The distribution is right-skewed with a strong peak around 0.325 and a smaller peak near 0.30.\n",
    "\n",
    "Insight: Most ads have a high CTR, which could indicate effective ad targeting or optimization. The second peak could represent a different segment or campaign strategy.\n",
    "\n",
    "\n",
    "##### CPC\n",
    "Observation: Bimodal distribution with prominent peaks at ~0.4 and ~0.65.\n",
    "\n",
    "Insight: There may be two distinct bidding strategies or campaign types — one more cost-efficient and another more aggressive or competitive\n",
    "\n",
    "#### CPM\n",
    "Observation: Also bimodal, with sharp peaks at ~130 and ~200.\n",
    "\n",
    "Insight: This could indicate different ad placements or audience segments — one cheaper and another more premium.\n",
    "\n",
    "#### ROI\n",
    "Observation: Highly right-skewed, with most values between 0–2, then a flat tail reaching up to 8.\n",
    "\n",
    "Insight: Most campaigns yield modest returns, but some perform significantly better. There may be a few \"super-performers\" driving this long tail.\n",
    "\n",
    "\n",
    "#### Conversion Rate Distribution\n",
    "Observation: Unusual repetitive peak pattern (looks almost periodic).\n",
    "\n",
    "Insight: This likely indicates discrete values or rounding, maybe due to how conversion rates are recorded (e.g., calculated as fixed % steps). It may also suggest an issue in how the data is binned or generated.\n",
    "\n",
    "\n",
    "#### Engagement Score Distribution\n",
    "Observation: Heavily skewed with a massive spike at 1, then evenly spaced smaller peaks from 2 to 10.\n",
    "\n",
    "Insight: A large proportion of users had minimal engagement, but a decent number scored evenly across the rest. Suggests many users drop off quickly while others engage more steadily."
   ]
  },
  {
   "cell_type": "code",
   "execution_count": 0,
   "metadata": {
    "application/vnd.databricks.v1+cell": {
     "cellMetadata": {
      "byteLimit": 2048000,
      "rowLimit": 10000
     },
     "inputWidgets": {},
     "nuid": "5a301f35-4dda-4ee5-9e58-517d2789868e",
     "showTitle": false,
     "tableResultSettingsMap": {},
     "title": ""
    }
   },
   "outputs": [],
   "source": [
    "from scipy.stats import zscore\n",
    "\n",
    "# Add Z-scores to help identify extreme outliers\n",
    "z_scores = df_pd[[\"CTR\", \"CPC\", \"CPM\", \"ROI\"]].apply(zscore)\n",
    "outlier_mask = (z_scores.abs() > 4)  # typical threshold\n",
    "outliers = df_pd[outlier_mask.any(axis=1)]\n",
    "\n",
    "print(f\"Outlier rows detected: {len(outliers)}\")\n",
    "display(outliers)\n"
   ]
  },
  {
   "cell_type": "code",
   "execution_count": 0,
   "metadata": {
    "application/vnd.databricks.v1+cell": {
     "cellMetadata": {
      "byteLimit": 2048000,
      "rowLimit": 10000
     },
     "inputWidgets": {},
     "nuid": "42b338bc-71cc-4314-87cd-0b7ab24e4599",
     "showTitle": false,
     "tableResultSettingsMap": {},
     "title": ""
    }
   },
   "outputs": [],
   "source": [
    "# Group by Company and Channel to count number of campaigns\n",
    "campaign_counts = df_filtered.groupBy(\"Company\", \"Channel_Used\") \\\n",
    "    .count() \\\n",
    "    .orderBy(\"Company\", \"count\", ascending=False)\n",
    "\n",
    "display(campaign_counts)"
   ]
  },
  {
   "cell_type": "code",
   "execution_count": 0,
   "metadata": {
    "application/vnd.databricks.v1+cell": {
     "cellMetadata": {
      "byteLimit": 2048000,
      "rowLimit": 10000
     },
     "inputWidgets": {},
     "nuid": "0c0f66d8-640e-4c29-ae27-a000633122f1",
     "showTitle": false,
     "tableResultSettingsMap": {},
     "title": ""
    }
   },
   "outputs": [],
   "source": [
    "pivot_view = df_filtered.groupBy(\"Company\").pivot(\"Channel_Used\").count().fillna(0)\n",
    "display(pivot_view)\n"
   ]
  }
 ],
 "metadata": {
  "application/vnd.databricks.v1+notebook": {
   "computePreferences": null,
   "dashboards": [],
   "environmentMetadata": {
    "base_environment": "",
    "environment_version": "2"
   },
   "language": "python",
   "notebookMetadata": {
    "pythonIndentUnit": 4
   },
   "notebookName": "02_data_cleaning_and_features",
   "widgets": {}
  },
  "language_info": {
   "name": "python"
  }
 },
 "nbformat": 4,
 "nbformat_minor": 0
}
